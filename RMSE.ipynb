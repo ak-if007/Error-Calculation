{
  "nbformat": 4,
  "nbformat_minor": 0,
  "metadata": {
    "colab": {
      "provenance": []
    },
    "kernelspec": {
      "name": "python3",
      "display_name": "Python 3"
    },
    "language_info": {
      "name": "python"
    }
  },
  "cells": [
    {
      "cell_type": "code",
      "execution_count": 1,
      "metadata": {
        "id": "Vrqw6OTEO2_N"
      },
      "outputs": [],
      "source": [
        "import pandas as pd\n",
        "import os\n",
        "import scipy.io\n",
        "import numpy as np\n",
        "import matplotlib.pyplot as plt\n",
        "import re\n",
        "from scipy.spatial.distance import cdist\n"
      ]
    },
    {
      "cell_type": "code",
      "source": [
        "simulated = mat_data = scipy.io.loadmat('Simulated.mat')\n",
        "V = simulated['V'].squeeze()\n",
        "I = simulated['I'].squeeze()\n",
        "t = simulated['t'].squeeze()\n"
      ],
      "metadata": {
        "id": "IzFEBVGzPHSL"
      },
      "execution_count": null,
      "outputs": []
    },
    {
      "cell_type": "code",
      "source": [
        "def check(s):\n",
        "    pattern = r'\\d+\\.csv$'\n",
        "    return bool(re.search(pattern, s))\n",
        "\n",
        "file_list = sorted([f for f in os.listdir(os.getcwd()) if check(f)])"
      ],
      "metadata": {
        "id": "BpD6FmM6O_N8"
      },
      "execution_count": 2,
      "outputs": []
    },
    {
      "cell_type": "code",
      "source": [
        "mod = 0\n",
        "dfs = []\n",
        "\n",
        "for i,file_name in enumerate(file_list):\n",
        "    df = pd.read_csv(file_name,header= None)\n",
        "    if i==1 or i==2:\n",
        "      df = df.iloc[::-1]\n",
        "    if (i == 2 or i ==3) and mod == 1:\n",
        "      df[1]*=-1\n",
        "\n",
        "    dfs.append(df)\n",
        "\n",
        "\n",
        "df = pd.concat(dfs,axis=0, ignore_index=True)"
      ],
      "metadata": {
        "id": "KcZKaUxVPEYj"
      },
      "execution_count": null,
      "outputs": []
    },
    {
      "cell_type": "code",
      "source": [
        "x = round(t.shape[0]/4)\n",
        "Segmented_V = []\n",
        "Segmented_I = []\n",
        "Segmented_t = []\n",
        "for i in range(4):\n",
        "  Segmented_V.append(V[i*x: (i+1)*x + 1])\n",
        "  Segmented_I.append(I[i*x: (i+1)*x + 1])\n",
        "  Segmented_t.append(t[i*x: (i+1)*x + 1])\n"
      ],
      "metadata": {
        "id": "EBv1FzNdPOLU"
      },
      "execution_count": null,
      "outputs": []
    },
    {
      "cell_type": "code",
      "source": [
        "\n",
        "def find_closest_points(V_exp, V, I):\n",
        "    distances = cdist(V_exp.reshape(-1, 1), V.reshape(-1, 1))\n",
        "    closest_indices = np.argmin(distances, axis=1)\n",
        "    V = V[closest_indices]\n",
        "    I = I[closest_indices]\n",
        "    return V, I"
      ],
      "metadata": {
        "id": "vyhtmfE2Pp1B"
      },
      "execution_count": null,
      "outputs": []
    },
    {
      "cell_type": "code",
      "source": [
        "for i in range(4):\n",
        "  Segmented_V[i], Segmented_I[i] = find_closest_points(dfs[i][0].to_numpy(),np.array(Segmented_V[i]), np.array(Segmented_I[i]))\n",
        "\n",
        "V = np.array([item for inner_list in Segmented_V for item in inner_list])\n",
        "I = np.array([item for inner_list in Segmented_I for item in inner_list])\n",
        "V_exp = df[0].to_numpy()\n",
        "I_exp = df[1].to_numpy()\n"
      ],
      "metadata": {
        "id": "k0MYfJJvPqbQ"
      },
      "execution_count": null,
      "outputs": []
    },
    {
      "cell_type": "code",
      "source": [
        "N = V.shape[0]\n",
        "V_norm = np.sqrt((V_exp**2).sum())\n",
        "I_norm = np.sqrt((I_exp**2).sum())\n",
        "v_e = ((V - V_exp)**2).sum()/V_norm\n",
        "i_e = ((I - I_exp)**2).sum()/I_norm\n",
        "e = np.sqrt((1/N) *(v_e + i_e))"
      ],
      "metadata": {
        "id": "SPm_hQYuPwv0"
      },
      "execution_count": null,
      "outputs": []
    }
  ]
}